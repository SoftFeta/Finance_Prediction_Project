{
 "cells": [
  {
   "cell_type": "markdown",
   "id": "f40cc2ae",
   "metadata": {},
   "source": [
    "## CS5488 Project - Price Prediction on Cryptocurrencies\n",
    "### Project Group 5\n",
    "<!--\n",
    "Poon Bing Chun\n",
    "Jia Shuyue\n",
    "Li Ka Faat\n",
    "Tso Yiu Chuen\n",
    "-->"
   ]
  },
  {
   "cell_type": "markdown",
   "id": "0cec969e",
   "metadata": {},
   "source": [
    "#### Objective\n",
    "In this project, we attempt to predict the exchange rates of cryptocurrencies using historical prices of other cryptocurrencies, by training a deep neural network distributedly across several machines.\n",
    "\n",
    "Distributed training is a collection of techniques for using multiple processors located on different machines for training machine learning models. It is an increasingly important deep learning technique, since it enables the training of wider neural networks which is too cumbersome to manage on one machine only.\n",
    "\n",
    "#### Plan\n",
    "The Horovod library (paper) will be used and the training machines will be grouped by an Apache Spark cluster (which will be covered in the last few weeks of the lecture). Horovod distributes training batches to machines for training, averages the gradients of gradient descents, and aggregates the validation metrics returned by each machine. It supports common deep learning frameworks like Keras, TensorFlow and PyTorch.\n",
    "\n",
    "We will compare the convergence rates with and without distributed training using Tensorboard."
   ]
  },
  {
   "cell_type": "code",
   "execution_count": 2,
   "id": "c940fd12",
   "metadata": {},
   "outputs": [],
   "source": [
    "import pandas as pd\n",
    "from urllib.request import urlopen as u"
   ]
  },
  {
   "cell_type": "markdown",
   "id": "d9fd5ef0",
   "metadata": {},
   "source": [
    "#### Data Collection\n",
    "\n",
    "We have written a Python script to collect historical cryptocurrency finance data from [https://coinmarketcap.com/](https://coinmarketcap.com/). The date range is 1st January, 2019 to 22nd September, 2021 (i.e. the day we collected the data). We have parsed the data into the machine-readable `pandas` `DataFrame` format and placed it in Google Drive."
   ]
  },
  {
   "cell_type": "code",
   "execution_count": 8,
   "id": "924594ad",
   "metadata": {},
   "outputs": [],
   "source": [
    "from requests import Session\n",
    "\n",
    "def download_from_google_drive(id):\n",
    "    URL = \"https://docs.google.com/uc?export=download\"\n",
    "\n",
    "    session = Session()\n",
    "\n",
    "    response = session.get(URL, params = {'id': id }, stream = True)\n",
    "    token = get_confirm_token(response)\n",
    "\n",
    "    if token:\n",
    "        params = {'id': id, 'confirm': token }\n",
    "        response = session.get(URL, params = params, stream = True)\n",
    "\n",
    "    save_response_content(response)    \n",
    "\n",
    "def get_confirm_token(response):\n",
    "    for key, value in response.cookies.items():\n",
    "        if key.startswith('download_warning'):\n",
    "            return value\n",
    "\n",
    "    return None\n",
    "\n",
    "def save_response_content(response):\n",
    "    CHUNK_SIZE = 32768\n",
    "\n",
    "    with open('historical_coin_data_5m.json', \"wb\") as f:\n",
    "        for chunk in response.iter_content(CHUNK_SIZE):\n",
    "            if chunk: # filter out keep-alive new chunks\n",
    "                f.write(chunk)\n",
    "\n",
    "download_from_google_drive('1gkXRtX1BfeC3uxYb6WxGTn2fN5U8S1OZ')"
   ]
  },
  {
   "cell_type": "code",
   "execution_count": 3,
   "id": "54b7ab18",
   "metadata": {},
   "outputs": [],
   "source": [
    "df = pd.read_json('historical_coin_data_5m.json')"
   ]
  },
  {
   "cell_type": "code",
   "execution_count": 10,
   "id": "797bb44c",
   "metadata": {},
   "outputs": [
    {
     "data": {
      "text/html": [
       "<div>\n",
       "<style scoped>\n",
       "    .dataframe tbody tr th:only-of-type {\n",
       "        vertical-align: middle;\n",
       "    }\n",
       "\n",
       "    .dataframe tbody tr th {\n",
       "        vertical-align: top;\n",
       "    }\n",
       "\n",
       "    .dataframe thead th {\n",
       "        text-align: right;\n",
       "    }\n",
       "</style>\n",
       "<table border=\"1\" class=\"dataframe\">\n",
       "  <thead>\n",
       "    <tr style=\"text-align: right;\">\n",
       "      <th></th>\n",
       "      <th>Currency</th>\n",
       "      <th>DateTime</th>\n",
       "      <th>Price USD</th>\n",
       "      <th>Trading Volume Last 24h</th>\n",
       "      <th>Market Cap</th>\n",
       "      <th>Price BTC</th>\n",
       "      <th>DunnoWhatThisIs</th>\n",
       "    </tr>\n",
       "  </thead>\n",
       "  <tbody>\n",
       "    <tr>\n",
       "      <th>0</th>\n",
       "      <td>Litecoin</td>\n",
       "      <td>2019-01-01 08:04:00</td>\n",
       "      <td>31.133169</td>\n",
       "      <td>3.800241e+08</td>\n",
       "      <td>1.862125e+09</td>\n",
       "      <td>8.183427e-03</td>\n",
       "      <td>4.894641e+05</td>\n",
       "    </tr>\n",
       "    <tr>\n",
       "      <th>1</th>\n",
       "      <td>Bitcoin</td>\n",
       "      <td>2019-01-01 08:04:01</td>\n",
       "      <td>3804.417038</td>\n",
       "      <td>4.637869e+09</td>\n",
       "      <td>6.640638e+10</td>\n",
       "      <td>1.000000e+00</td>\n",
       "      <td>1.745508e+07</td>\n",
       "    </tr>\n",
       "    <tr>\n",
       "      <th>2</th>\n",
       "      <td>XRP</td>\n",
       "      <td>2019-01-01 08:04:01</td>\n",
       "      <td>0.360121</td>\n",
       "      <td>5.027181e+08</td>\n",
       "      <td>1.469083e+10</td>\n",
       "      <td>9.465870e-05</td>\n",
       "      <td>3.861520e+06</td>\n",
       "    </tr>\n",
       "    <tr>\n",
       "      <th>3</th>\n",
       "      <td>Dogecoin</td>\n",
       "      <td>2019-01-01 08:04:02</td>\n",
       "      <td>0.002367</td>\n",
       "      <td>1.779630e+07</td>\n",
       "      <td>2.784091e+08</td>\n",
       "      <td>6.221000e-07</td>\n",
       "      <td>7.318046e+04</td>\n",
       "    </tr>\n",
       "    <tr>\n",
       "      <th>4</th>\n",
       "      <td>Stellar</td>\n",
       "      <td>2019-01-01 08:04:04</td>\n",
       "      <td>0.114630</td>\n",
       "      <td>9.050305e+07</td>\n",
       "      <td>2.196406e+09</td>\n",
       "      <td>3.013080e-05</td>\n",
       "      <td>5.773304e+05</td>\n",
       "    </tr>\n",
       "    <tr>\n",
       "      <th>...</th>\n",
       "      <td>...</td>\n",
       "      <td>...</td>\n",
       "      <td>...</td>\n",
       "      <td>...</td>\n",
       "      <td>...</td>\n",
       "      <td>...</td>\n",
       "      <td>...</td>\n",
       "    </tr>\n",
       "    <tr>\n",
       "      <th>5124733</th>\n",
       "      <td>Internet Computer</td>\n",
       "      <td>2021-09-22 05:49:10</td>\n",
       "      <td>48.568079</td>\n",
       "      <td>3.332303e+08</td>\n",
       "      <td>7.911265e+09</td>\n",
       "      <td>1.121945e-03</td>\n",
       "      <td>1.827539e+05</td>\n",
       "    </tr>\n",
       "    <tr>\n",
       "      <th>5124734</th>\n",
       "      <td>Internet Computer</td>\n",
       "      <td>2021-09-22 05:49:12</td>\n",
       "      <td>48.568079</td>\n",
       "      <td>3.332303e+08</td>\n",
       "      <td>7.911265e+09</td>\n",
       "      <td>1.121945e-03</td>\n",
       "      <td>1.827539e+05</td>\n",
       "    </tr>\n",
       "    <tr>\n",
       "      <th>5124735</th>\n",
       "      <td>VeChain</td>\n",
       "      <td>2021-09-22 05:54:14</td>\n",
       "      <td>0.096595</td>\n",
       "      <td>5.599202e+08</td>\n",
       "      <td>6.212570e+09</td>\n",
       "      <td>2.231800e-06</td>\n",
       "      <td>1.435412e+05</td>\n",
       "    </tr>\n",
       "    <tr>\n",
       "      <th>5124736</th>\n",
       "      <td>VeChain</td>\n",
       "      <td>2021-09-22 05:54:16</td>\n",
       "      <td>0.096595</td>\n",
       "      <td>5.599202e+08</td>\n",
       "      <td>6.212570e+09</td>\n",
       "      <td>2.231800e-06</td>\n",
       "      <td>1.435412e+05</td>\n",
       "    </tr>\n",
       "    <tr>\n",
       "      <th>5124737</th>\n",
       "      <td>VeChain</td>\n",
       "      <td>2021-09-22 05:54:17</td>\n",
       "      <td>0.096595</td>\n",
       "      <td>5.599202e+08</td>\n",
       "      <td>6.212570e+09</td>\n",
       "      <td>2.231800e-06</td>\n",
       "      <td>1.435412e+05</td>\n",
       "    </tr>\n",
       "  </tbody>\n",
       "</table>\n",
       "<p>5124738 rows × 7 columns</p>\n",
       "</div>"
      ],
      "text/plain": [
       "                  Currency            DateTime    Price USD  \\\n",
       "0                 Litecoin 2019-01-01 08:04:00    31.133169   \n",
       "1                  Bitcoin 2019-01-01 08:04:01  3804.417038   \n",
       "2                      XRP 2019-01-01 08:04:01     0.360121   \n",
       "3                 Dogecoin 2019-01-01 08:04:02     0.002367   \n",
       "4                  Stellar 2019-01-01 08:04:04     0.114630   \n",
       "...                    ...                 ...          ...   \n",
       "5124733  Internet Computer 2021-09-22 05:49:10    48.568079   \n",
       "5124734  Internet Computer 2021-09-22 05:49:12    48.568079   \n",
       "5124735            VeChain 2021-09-22 05:54:14     0.096595   \n",
       "5124736            VeChain 2021-09-22 05:54:16     0.096595   \n",
       "5124737            VeChain 2021-09-22 05:54:17     0.096595   \n",
       "\n",
       "         Trading Volume Last 24h    Market Cap     Price BTC  DunnoWhatThisIs  \n",
       "0                   3.800241e+08  1.862125e+09  8.183427e-03     4.894641e+05  \n",
       "1                   4.637869e+09  6.640638e+10  1.000000e+00     1.745508e+07  \n",
       "2                   5.027181e+08  1.469083e+10  9.465870e-05     3.861520e+06  \n",
       "3                   1.779630e+07  2.784091e+08  6.221000e-07     7.318046e+04  \n",
       "4                   9.050305e+07  2.196406e+09  3.013080e-05     5.773304e+05  \n",
       "...                          ...           ...           ...              ...  \n",
       "5124733             3.332303e+08  7.911265e+09  1.121945e-03     1.827539e+05  \n",
       "5124734             3.332303e+08  7.911265e+09  1.121945e-03     1.827539e+05  \n",
       "5124735             5.599202e+08  6.212570e+09  2.231800e-06     1.435412e+05  \n",
       "5124736             5.599202e+08  6.212570e+09  2.231800e-06     1.435412e+05  \n",
       "5124737             5.599202e+08  6.212570e+09  2.231800e-06     1.435412e+05  \n",
       "\n",
       "[5124738 rows x 7 columns]"
      ]
     },
     "execution_count": 10,
     "metadata": {},
     "output_type": "execute_result"
    }
   ],
   "source": [
    "df"
   ]
  },
  {
   "cell_type": "code",
   "execution_count": 15,
   "id": "b5d5ef7f",
   "metadata": {},
   "outputs": [
    {
     "data": {
      "text/plain": [
       "0.09659510090000001"
      ]
     },
     "execution_count": 15,
     "metadata": {},
     "output_type": "execute_result"
    }
   ],
   "source": [
    "df.iloc[5124735]['Price USD']"
   ]
  },
  {
   "cell_type": "markdown",
   "id": "a725d17d",
   "metadata": {},
   "source": [
    "Let us analyse the time series by plotting the raw **Price USD** data (in log scale because the difference in price range of cryptocurrencies are quite large). A clear upward trend, cyclical variation, and some irregularities (sudden surge of price) can be observed. Seasonal variation does not seem to be present. As there is a trend, the time series is not stationary."
   ]
  },
  {
   "cell_type": "code",
   "execution_count": 5,
   "id": "658d0dad",
   "metadata": {},
   "outputs": [
    {
     "data": {
      "text/plain": [
       "<matplotlib.legend.Legend at 0x206a572d250>"
      ]
     },
     "execution_count": 5,
     "metadata": {},
     "output_type": "execute_result"
    },
    {
     "data": {
      "image/png": "[encoded data removed]",
      "text/plain": [
       "<Figure size 432x288 with 1 Axes>"
      ]
     },
     "metadata": {
      "needs_background": "light"
     },
     "output_type": "display_data"
    }
   ],
   "source": [
    "import matplotlib.pyplot as plt\n",
    "\n",
    "index = 'Price USD'\n",
    "\n",
    "eth = df[df['Currency']=='Ethereum']\n",
    "plt.plot(eth['DateTime'], eth[index], label='Ethereum')\n",
    "\n",
    "vec = df[df['Currency']=='Dogecoin']\n",
    "plt.plot(vec['DateTime'], vec[index], label='Dogecoin')\n",
    "\n",
    "btc = df[df['Currency']=='Litecoin']\n",
    "plt.plot(btc['DateTime'], btc[index], label='Litecoin')\n",
    "\n",
    "xrp = df[df['Currency']=='XRP']\n",
    "plt.plot(xrp['DateTime'], xrp[index], label='XRP')\n",
    "\n",
    "sol = df[df['Currency']=='Solana']\n",
    "plt.plot(sol['DateTime'], sol[index], label='Solana')\n",
    "\n",
    "ico = df[df['Currency']=='Internet Computer']\n",
    "plt.plot(ico['DateTime'], ico[index], 'k-', label='Internet Computer')\n",
    "\n",
    "plt.title(f'{index} of Several Cryptocurrencies')\n",
    "plt.xlabel('Date/Time')\n",
    "plt.ylabel('Price (US$)')\n",
    "plt.xticks(rotation=45)\n",
    "plt.yscale('log')\n",
    "plt.legend(bbox_to_anchor=(1.05, 1), loc='upper left', borderaxespad=0.)"
   ]
  },
  {
   "cell_type": "code",
   "execution_count": 7,
   "id": "71a22704",
   "metadata": {},
   "outputs": [
    {
     "data": {
      "text/plain": [
       "<matplotlib.legend.Legend at 0x206a68676d0>"
      ]
     },
     "execution_count": 7,
     "metadata": {},
     "output_type": "execute_result"
    },
    {
     "data": {
      "image/png": "[encoded data removed]",
      "text/plain": [
       "<Figure size 432x288 with 1 Axes>"
      ]
     },
     "metadata": {
      "needs_background": "light"
     },
     "output_type": "display_data"
    }
   ],
   "source": [
    "import matplotlib.pyplot as plt\n",
    "\n",
    "index = 'Market Cap'\n",
    "\n",
    "eth = df[df['Currency']=='Ethereum']\n",
    "plt.plot(eth['DateTime'], eth[index], label='Ethereum')\n",
    "\n",
    "vec = df[df['Currency']=='Dogecoin']\n",
    "plt.plot(vec['DateTime'], vec[index], label='Dogecoin')\n",
    "\n",
    "btc = df[df['Currency']=='Litecoin']\n",
    "plt.plot(btc['DateTime'], btc[index], label='Litecoin')\n",
    "\n",
    "xrp = df[df['Currency']=='XRP']\n",
    "plt.plot(xrp['DateTime'], xrp[index], label='XRP')\n",
    "\n",
    "sol = df[df['Currency']=='Solana']\n",
    "plt.plot(sol['DateTime'], sol[index], label='Solana')\n",
    "\n",
    "ico = df[df['Currency']=='Internet Computer']\n",
    "plt.plot(ico['DateTime'], ico[index], 'k-', label='Internet Computer')\n",
    "\n",
    "plt.title(f'{index} of Several Cryptocurrencies')\n",
    "plt.xlabel('Date/Time')\n",
    "plt.ylabel('Price (US$)')\n",
    "plt.xticks(rotation=45)\n",
    "plt.yscale('log')\n",
    "plt.legend(bbox_to_anchor=(1.05, 1), loc='upper left', borderaxespad=0.)"
   ]
  },
  {
   "cell_type": "markdown",
   "id": "2e9f9cf4",
   "metadata": {},
   "source": [
    "Therefore, to make the series stationary, we have to apply ARIMA techniques. Below we will try and compare different autoregression (AR), integration (I), and moving average (MA) values."
   ]
  },
  {
   "cell_type": "markdown",
   "id": "970ab279",
   "metadata": {},
   "source": [
    "The usual plot does not provide insight into the cov and its structure. A autocorrelation function (ACF) plot will do better in this.\n",
    "\n",
    "Because the $cov(0)$ is the variance, the ACF is analogous to the correlation function of two variables, $corr(y_t, y_t+h)$, and the value of the ACF falls between -1 and 1.\n",
    "Thus, the closer the absolute value of $ACF(h)$ is to 1,the more useful $y_t$ can be as a predictor of $y_t+h$."
   ]
  },
  {
   "cell_type": "code",
   "execution_count": 6,
   "id": "d0304f8d",
   "metadata": {},
   "outputs": [
    {
     "name": "stdout",
     "output_type": "stream",
     "text": [
      "Help on function autocorrelation_plot in module pandas.plotting._misc:\n",
      "\n",
      "autocorrelation_plot(series, ax=None, **kwargs)\n",
      "    Autocorrelation plot for time series.\n",
      "    \n",
      "    Parameters\n",
      "    ----------\n",
      "    series : Time series\n",
      "    ax : Matplotlib axis object, optional\n",
      "    **kwargs\n",
      "        Options to pass to matplotlib plotting method.\n",
      "    \n",
      "    Returns\n",
      "    -------\n",
      "    class:`matplotlib.axis.Axes`\n",
      "    \n",
      "    Examples\n",
      "    --------\n",
      "    \n",
      "    The horizontal lines in the plot correspond to 95% and 99% confidence bands.\n",
      "    \n",
      "    The dashed line is 99% confidence band.\n",
      "    \n",
      "    .. plot::\n",
      "        :context: close-figs\n",
      "    \n",
      "        >>> spacing = np.linspace(-9 * np.pi, 9 * np.pi, num=1000)\n",
      "        >>> s = pd.Series(0.7 * np.random.rand(1000) + 0.3 * np.sin(spacing))\n",
      "        >>> pd.plotting.autocorrelation_plot(s)\n",
      "\n"
     ]
    }
   ],
   "source": [
    "import matplotlib.pyplot as plt\n",
    "from pandas.plotting import autocorrelation_plot\n",
    "\n",
    "help(autocorrelation_plot)"
   ]
  },
  {
   "cell_type": "code",
   "execution_count": null,
   "id": "461cc3d7",
   "metadata": {},
   "outputs": [],
   "source": [
    "import matplotlib.pyplot as plt\n",
    "from pandas.plotting import autocorrelation_plot\n",
    "\n",
    "index = 'Price USD'\n",
    "\n",
    "eth = df[df['Currency']=='Ethereum']\n",
    "autocorrelation_plot(eth[index], label='Ethereum')\n",
    "\n",
    "vec = df[df['Currency']=='Dogecoin']\n",
    "autocorrelation_plot(vec[index], label='Dogecoin')\n",
    "\n",
    "btc = df[df['Currency']=='Litecoin']\n",
    "autocorrelation_plot(btc[index], label='Litecoin')\n",
    "\n",
    "# xrp = df[df['Currency']=='XRP']\n",
    "# autocorrelation_plot(xrp[index], label='XRP')\n",
    "\n",
    "# sol = df[df['Currency']=='Solana']\n",
    "# autocorrelation_plot(sol[index], label='Solana')\n",
    "\n",
    "# ico = df[df['Currency']=='Internet Computer']\n",
    "# autocorrelation_plot(ico[index], 'k-', label='Internet Computer')\n",
    "\n",
    "plt.title(f'ACF of {index} of Several Cryptocurrencies')\n",
    "# plt.xticks(rotation=45)\n",
    "# plt.yscale('log')\n",
    "plt.legend()"
   ]
  },
  {
   "cell_type": "markdown",
   "id": "8b98b50e",
   "metadata": {},
   "source": [
    "The `pmdarima` package provides the function `auto_arima()`.\n",
    "\n",
    "`auto_arima()` uses a stepwise approach to search multiple combinations of p,d,q parameters and picks the best model that has the smallest AIC."
   ]
  },
  {
   "cell_type": "code",
   "execution_count": null,
   "id": "2f331370",
   "metadata": {},
   "outputs": [],
   "source": [
    "from statsmodels.tsa.arima_model import ARIMA\n",
    "import pmdarima as pm\n",
    "\n",
    "help(pm.auto_arima)"
   ]
  },
  {
   "cell_type": "code",
   "execution_count": null,
   "id": "fddd826f",
   "metadata": {},
   "outputs": [],
   "source": []
  }
 ],
 "metadata": {
  "kernelspec": {
   "display_name": "Python 3 (ipykernel)",
   "language": "python",
   "name": "python3"
  },
  "language_info": {
   "codemirror_mode": {
    "name": "ipython",
    "version": 3
   },
   "file_extension": ".py",
   "mimetype": "text/x-python",
   "name": "python",
   "nbconvert_exporter": "python",
   "pygments_lexer": "ipython3",
   "version": "3.9.6"
  }
 },
 "nbformat": 4,
 "nbformat_minor": 5
}
